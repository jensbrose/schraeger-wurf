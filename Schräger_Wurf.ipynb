{
 "cells": [
  {
   "cell_type": "code",
   "execution_count": 1,
   "metadata": {},
   "outputs": [
    {
     "name": "stdout",
     "output_type": "stream",
     "text": [
      "Populating the interactive namespace from numpy and matplotlib\n"
     ]
    }
   ],
   "source": [
    "%pylab inline\n",
    "from ipywidgets import interact, fixed"
   ]
  },
  {
   "cell_type": "markdown",
   "metadata": {},
   "source": [
    "## Schräger Wurf mit Anfangshöhe $\\mathbf{z_0 \\gt 0}$\n",
    "\n",
    "Bahnkurve $z(x)$ beim schrägen Wurf (Kugelstoßen) mit der Möglichkeit der Variation der Anfangsgeschwindigkeit $v_0$, der Anfangshöhe $z_0$ und des Wurfwinkels $\\alpha$ sowie Anzeige des jeweils optimalen Wurfwinkels zum Erreichen der maximalen Wurfweite:\n",
    "$$\\alpha_{\\mathrm{opt}} = \\arcsin\\left(\\frac{v_0}{\\sqrt{2(v_0^2 +gz_0)}}\\right)$$"
   ]
  },
  {
   "cell_type": "code",
   "execution_count": 2,
   "metadata": {
    "code_folding": [
     0,
     3
    ],
    "run_control": {
     "marked": true
    }
   },
   "outputs": [],
   "source": [
    "def optimaler_winkel(v_0, z_0, g=9.81):\n",
    "    return rad2deg(arcsin(v_0/sqrt(2 * (v_0**2 + z_0 * g))))\n",
    "\n",
    "def bahnkurve(alpha=45, v_0=13.5, z_0=0, g=9.81):\n",
    "    \"\"\" alpha - Wurfwinkel [°], \n",
    "        v_0   - Anfangsgeschwindigkeit [m/s], \n",
    "        z_0   - Anfangshöhe [m], \n",
    "        g     - Fallbeschleunigung [m/s²]\n",
    "    \"\"\"\n",
    "    x = arange(0, 25, 0.1)                             # horizontale Koordinate [m]\n",
    "    print(\"Optimaler Wurfwinkel: {:4.2f}\".format(optimaler_winkel(v_0, z_0, g)))\n",
    "    tan_alpha = tan(deg2rad(alpha))\n",
    "    z = -g * (1 + tan_alpha**2) / 2 / v_0**2 * x**2 + tan_alpha * x + z_0 # Bahn z(x)\n",
    "    print(\"Höchster Punkt: z_max = {:4.2f} m bei x = {:4.2f} m\".format(z.max(), x[z.argmax()]))\n",
    "    ende =  np.where(z < 0)[0][0]                      # Index der Wurfweite\n",
    "    print(\"Wurfweite: {:5.2f} m\".format(x[ende]))\n",
    "    figure(figsize=[10, 6])\n",
    "    plot(x[:ende], z[:ende])\n",
    "    xlabel(\"Ort x [m]\")\n",
    "    ylabel(\"Höhe z [m]\")\n",
    "    title(\"Bahnkurve beim Kugelstoßen (EPI/2.3)\")\n",
    "    show()"
   ]
  },
  {
   "cell_type": "code",
   "execution_count": 3,
   "metadata": {},
   "outputs": [
    {
     "data": {
      "application/vnd.jupyter.widget-view+json": {
       "model_id": "4c5494427c354be9a70b667d688c3492",
       "version_major": 2,
       "version_minor": 0
      },
      "text/plain": [
       "interactive(children=(FloatSlider(value=45.0, description='alpha', max=90.0, step=1.0), FloatSlider(value=13.5…"
      ]
     },
     "metadata": {},
     "output_type": "display_data"
    }
   ],
   "source": [
    "interact(bahnkurve, alpha=(0.0, 90.0 ,1.0), v_0=(1, 15, .5), z_0=(0, 3, .1), g=fixed(9.81));"
   ]
  }
 ],
 "metadata": {
  "kernelspec": {
   "display_name": "Python 3",
   "language": "python",
   "name": "python3"
  },
  "language_info": {
   "codemirror_mode": {
    "name": "ipython",
    "version": 3
   },
   "file_extension": ".py",
   "mimetype": "text/x-python",
   "name": "python",
   "nbconvert_exporter": "python",
   "pygments_lexer": "ipython3",
   "version": "3.6.9"
  }
 },
 "nbformat": 4,
 "nbformat_minor": 2
}
